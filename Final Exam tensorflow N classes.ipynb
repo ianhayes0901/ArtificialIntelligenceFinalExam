{
  "cells": [
    {
      "cell_type": "markdown",
      "metadata": {
        "colab_type": "text",
        "id": "view-in-github"
      },
      "source": [
        "<a href=\"https://colab.research.google.com/github/mrdbourke/tensorflow-deep-learning/blob/main/04_transfer_learning_in_tensorflow_part_1_feature_extraction.ipynb\" target=\"_parent\"><img src=\"https://colab.research.google.com/assets/colab-badge.svg\" alt=\"Open In Colab\"/></a>"
      ]
    },
    {
      "cell_type": "markdown",
      "metadata": {
        "id": "ObwiuiGkZb87"
      },
      "source": [
        "# Final Exam Spring 2024\n",
        "\n",
        "In this course, We've built Different Deep neural networks from scratch. We have seen that by changing model configurations, adding new layers, changing optimizers and learning rate we could improve our classifiers. We also covered Transfer Learning, where we could use a pretrained model for our classification.\n",
        "\n",
        "In this project, you will use one of the folders **dataset** or **dataset2**. Both contain different animal pictures organized in different folders representing the different classes. Folder **dataset**, the images are separated into training and testing folders. The **dataset2** all the animal images are not split into training and validation or testing. You may choose the data that works better for you. \n",
        "\n",
        "\n",
        "\n",
        "1. Build a deep learning model from scratch to classify these images. You can use the notebooks on BB under **Documents/Computer Vision Transfer Learning**\n",
        "\n",
        "2. Use **transfer learning** to classify these images using a pretrained models of your choice. \n",
        "3. Compare the results.\n",
        "\n",
        "\n",
        "The grade will be based on your strategy ( data manipulation, overfitting solution, etc, and ) visualization ( Exploratory analysis, Image reshaping and Scaling, Solve overfitting problem using data augmentation or adding droput layers, Accuracy plot, AUC and ROC curves, etc) \n",
        "\n",
        "Every student should use his own strategy to solve this problem. (Individual work).\n",
        "\n",
        "You will need to use a GPU and need to run the code on google colab. To do so, you need to upload the dataset on your drive and upload it on google colab.\n",
        "\n"
      ]
    },
    {
      "cell_type": "markdown",
      "metadata": {
        "id": "UTWetPM7AWfY"
      },
      "source": [
        "## Using a GPU\n"
      ]
    },
    {
      "cell_type": "code",
      "execution_count": 1,
      "metadata": {
        "colab": {
          "base_uri": "https://localhost:8080/"
        },
        "id": "Nq4kxIpQMpZT",
        "outputId": "9ed28bd4-c291-4644-95a2-7fa87f97b18f"
      },
      "outputs": [
        {
          "name": "stdout",
          "output_type": "stream",
          "text": [
            "Mon Apr 29 16:53:03 2024       \n",
            "+---------------------------------------------------------------------------------------+\n",
            "| NVIDIA-SMI 546.09                 Driver Version: 546.09       CUDA Version: 12.3     |\n",
            "|-----------------------------------------+----------------------+----------------------+\n",
            "| GPU  Name                     TCC/WDDM  | Bus-Id        Disp.A | Volatile Uncorr. ECC |\n",
            "| Fan  Temp   Perf          Pwr:Usage/Cap |         Memory-Usage | GPU-Util  Compute M. |\n",
            "|                                         |                      |               MIG M. |\n",
            "|=========================================+======================+======================|\n",
            "|   0  Quadro T2000 with Max-Q ...  WDDM  | 00000000:01:00.0 Off |                  N/A |\n",
            "| N/A   54C    P0              13W /  40W |      0MiB /  4096MiB |      0%      Default |\n",
            "|                                         |                      |                  N/A |\n",
            "+-----------------------------------------+----------------------+----------------------+\n",
            "                                                                                         \n",
            "+---------------------------------------------------------------------------------------+\n",
            "| Processes:                                                                            |\n",
            "|  GPU   GI   CI        PID   Type   Process name                            GPU Memory |\n",
            "|        ID   ID                                                             Usage      |\n",
            "|=======================================================================================|\n",
            "|  No running processes found                                                           |\n",
            "+---------------------------------------------------------------------------------------+\n"
          ]
        }
      ],
      "source": [
        "# Verify the GPU? This is my own laptop GPU so you may use different allocated GPUs for your project\n",
        "!nvidia-smi"
      ]
    },
    {
      "cell_type": "markdown",
      "metadata": {
        "id": "7NY09457NKv4"
      },
      "source": [
        "## Models:\n",
        "\n",
        "On \"https://www.kaggle.com/models?tfhub-redirect=true&datatype=14102\" you can access thousands of machine learning models, including the most popular diffusion models and LLMs. \n",
        "\n",
        "You can import and use fully trained models. This allows you to get good results with less data.\n",
        "\n"
      ]
    },
    {
      "cell_type": "markdown",
      "metadata": {
        "id": "UIwVrX6vXb4z"
      },
      "source": [
        "## Reading the images (reshaping and rescaling the images)"
      ]
    },
    {
      "cell_type": "code",
      "execution_count": 3,
      "metadata": {
        "colab": {
          "base_uri": "https://localhost:8080/"
        },
        "id": "YAp0GN60S-rK",
        "outputId": "e847d896-1d24-40f1-9d8e-4f72fc76471f"
      },
      "outputs": [
        {
          "name": "stdout",
          "output_type": "stream",
          "text": [
            "Training images and classes\n",
            "Found 926 images belonging to 8 classes.\n",
            "Testing images and classes:\n",
            "Found 80 images belonging to 8 classes.\n"
          ]
        }
      ],
      "source": [
        "import tensorflow as tf\n",
        "from tensorflow.keras.preprocessing.image import ImageDataGenerator\n",
        "\n",
        "sHAPE = (224, 224)\n",
        "bATCH = 16\n",
        "trainingdirectory = \"dataset/training/\"\n",
        "testingdirectory = \"dataset/testing/\"\n",
        "training_ImageDataGenerator = ImageDataGenerator(rescale=1/255.)\n",
        "testing_ImageDataGenerator = ImageDataGenerator(rescale=1/255.)\n",
        "print(\"Training images and classes\")\n",
        "train_data_10_percent = training_ImageDataGenerator.flow_from_directory(trainingdirectory,target_size=sHAPE,\n",
        "                                               batch_size=bATCH, class_mode=\"categorical\")\n",
        "\n",
        "print(\"Testing images and classes:\")\n",
        "test_data = training_ImageDataGenerator.flow_from_directory(testingdirectory,\n",
        "                                              target_size=sHAPE,\n",
        "                                              batch_size=bATCH,\n",
        "                                              class_mode=\"categorical\")"
      ]
    }
  ],
  "metadata": {
    "accelerator": "GPU",
    "colab": {
      "authorship_tag": "ABX9TyMfSTrYBa7FpMXwjPOrjT7b",
      "gpuType": "A100",
      "include_colab_link": true,
      "machine_shape": "hm",
      "provenance": []
    },
    "gpuClass": "standard",
    "kernelspec": {
      "display_name": "Python 3",
      "name": "python3"
    },
    "language_info": {
      "codemirror_mode": {
        "name": "ipython",
        "version": 3
      },
      "file_extension": ".py",
      "mimetype": "text/x-python",
      "name": "python",
      "nbconvert_exporter": "python",
      "pygments_lexer": "ipython3",
      "version": "3.10.10"
    }
  },
  "nbformat": 4,
  "nbformat_minor": 0
}
